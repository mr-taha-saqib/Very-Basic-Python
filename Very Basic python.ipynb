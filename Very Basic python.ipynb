{
  "nbformat": 4,
  "nbformat_minor": 0,
  "metadata": {
    "colab": {
      "provenance": []
    },
    "kernelspec": {
      "name": "python3",
      "display_name": "Python 3"
    },
    "language_info": {
      "name": "python"
    }
  },
  "cells": [
    {
      "cell_type": "code",
      "execution_count": null,
      "metadata": {
        "colab": {
          "base_uri": "https://localhost:8080/"
        },
        "id": "T4OTiKlYtEU8",
        "outputId": "91ec86e7-25a4-4bda-c120-8f42494324c3"
      },
      "outputs": [
        {
          "output_type": "stream",
          "name": "stdout",
          "text": [
            "sorted merge list : [1, 3, 4, 11, 29, 56, 60, 78, 90, 91]\n"
          ]
        }
      ],
      "source": [
        "#Question no 1\n",
        "def Linearmerge(l1,l2):\n",
        "  length=len(l1)+len(l2)\n",
        "  l3=[]\n",
        "  j=0\n",
        "  k=0\n",
        "  for i in range(0,length):\n",
        "      if j<len(l1) and k < len(l2):\n",
        "         if l1[j]>l2[k]:\n",
        "           l3.append(l2[k])\n",
        "           k+=1\n",
        "         else:\n",
        "           l3.append(l1[j])\n",
        "           j+=1\n",
        "      else:\n",
        "        break\n",
        "  for i in range(j,len(l1)):\n",
        "     l3.append(l1[j])\n",
        "  for i in range(k,len(l2)):\n",
        "     l3.append(l2[k])\n",
        "  return l3\n",
        "\n",
        "l1=[1,3,4,29,60,91]\n",
        "l2=[11,56,78,90]\n",
        "\n",
        "print(\"sorted merge list :\",Linearmerge(l1,l2))"
      ]
    },
    {
      "cell_type": "code",
      "source": [],
      "metadata": {
        "id": "H688l7UrXg9w"
      },
      "execution_count": null,
      "outputs": []
    },
    {
      "cell_type": "code",
      "source": [
        "# Question no 2\n",
        "employees = ['Kelly', 'Emma', 'John']\n",
        "defaults = {\"designation\": \"Application Developer\", \"salary\": 8000}\n",
        "employee_dict = {employee: defaults.copy() for employee in employees} #copy data of defaults into employees\n",
        "print(employee_dict)"
      ],
      "metadata": {
        "colab": {
          "base_uri": "https://localhost:8080/"
        },
        "id": "b9YR1MJMwqqn",
        "outputId": "d19328c8-3863-4f06-de9b-b52bb812b8db"
      },
      "execution_count": null,
      "outputs": [
        {
          "output_type": "stream",
          "name": "stdout",
          "text": [
            "{'Kelly': {'designation': 'Application Developer', 'salary': 8000}, 'Emma': {'designation': 'Application Developer', 'salary': 8000}, 'John': {'designation': 'Application Developer', 'salary': 8000}}\n"
          ]
        }
      ]
    },
    {
      "cell_type": "code",
      "source": [
        "#question no 3\n",
        "sampleDict = {\"name\": \"Kelly\",\"age\":25,\"salary\": 8000,\"city\": \"New york\"}\n",
        "keystoremove=[\"name\",\"salary\"]\n",
        "[sampleDict.pop(keystoremove[i]) for i in range(0,len(keystoremove))] #pop keys to remove\n",
        "print(sampleDict)"
      ],
      "metadata": {
        "colab": {
          "base_uri": "https://localhost:8080/"
        },
        "id": "Yp_l7Q96zJTQ",
        "outputId": "b8a3eac6-0b85-41b0-a615-8c9320fe13de"
      },
      "execution_count": null,
      "outputs": [
        {
          "output_type": "stream",
          "name": "stdout",
          "text": [
            "{'age': 25, 'city': 'New york'}\n"
          ]
        }
      ]
    },
    {
      "cell_type": "code",
      "source": [
        "#Question no 4\n",
        "X={45,\"a\",\"o\",69,5}\n",
        "Y={\"a\",\"c\",\"d\",45,9,8,7}\n",
        "print(X^Y)"
      ],
      "metadata": {
        "colab": {
          "base_uri": "https://localhost:8080/"
        },
        "id": "JBCSmnGm2eKQ",
        "outputId": "cb65539c-0fd8-4e6f-919f-fc6c7c54bd78"
      },
      "execution_count": null,
      "outputs": [
        {
          "output_type": "stream",
          "name": "stdout",
          "text": [
            "{69, 5, 7, 8, 'c', 9, 'o', 'd'}\n"
          ]
        }
      ]
    },
    {
      "cell_type": "code",
      "source": [
        "#Question no 5\n",
        "def dividefunction(P,Q):\n",
        "  try:\n",
        "    print(P/Q)\n",
        "  except:\n",
        "    ValueError: print(\"You should have given either an int or a float\")\n",
        "    ZeroDivisionError : print(\"Infinity\")\n",
        "dividefunction(8,10)"
      ],
      "metadata": {
        "colab": {
          "base_uri": "https://localhost:8080/"
        },
        "id": "F92iUebM8cIH",
        "outputId": "384f44af-7b92-4710-f644-84ad00b80692"
      },
      "execution_count": null,
      "outputs": [
        {
          "output_type": "stream",
          "name": "stdout",
          "text": [
            "0.8\n"
          ]
        }
      ]
    }
  ]
}